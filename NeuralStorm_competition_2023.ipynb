{
 "cells": [
  {
   "cell_type": "code",
   "execution_count": 1,
   "id": "65004335-685d-42fa-9cb2-c7c838303fdf",
   "metadata": {},
   "outputs": [],
   "source": [
    "import urllib.request\n",
    "\n",
    "import numpy as np\n",
    "\n",
    "from sklearn.model_selection import train_test_split\n",
    "from sklearn.metrics import accuracy_score, confusion_matrix\n",
    "from sklearn import preprocessing\n",
    "from sklearn.preprocessing import StandardScaler\n",
    "\n",
    "from sklearn.linear_model import LogisticRegression\n",
    "from sklearn.svm import SVC\n",
    "from sklearn.naive_bayes import GaussianNB\n",
    "from sklearn.discriminant_analysis import LinearDiscriminantAnalysis\n",
    "from sklearn.neighbors import KNeighborsClassifier\n",
    "from sklearn.tree import DecisionTreeClassifier\n",
    "\n",
    "from scipy.io import loadmat\n",
    "from scipy import signal\n",
    "\n",
    "import matplotlib.pyplot as plt\n",
    "\n",
    "import pandas as pd"
   ]
  },
  {
   "cell_type": "markdown",
   "id": "5a7cfd7c-b1e6-4c6b-9cc6-ede3821a174f",
   "metadata": {},
   "source": [
    "## # Download the data"
   ]
  },
  {
   "cell_type": "code",
   "execution_count": 2,
   "id": "b0722b98-e946-4255-a4d1-a56685b23561",
   "metadata": {},
   "outputs": [
    {
     "data": {
      "text/plain": [
       "('test_data.mat', <http.client.HTTPMessage at 0x16a9dc370>)"
      ]
     },
     "execution_count": 2,
     "metadata": {},
     "output_type": "execute_result"
    }
   ],
   "source": [
    "urllib.request.urlretrieve(\n",
    "    \"https://github.com/micw523/be481datafiles/blob/main/train_data.mat?raw=true\",\n",
    "    \"train_data.mat\"\n",
    ")\n",
    "urllib.request.urlretrieve(\n",
    "    \"https://github.com/micw523/be481datafiles/blob/main/test_data.mat?raw=true\",\n",
    "    \"test_data.mat\"\n",
    ")"
   ]
  },
  {
   "cell_type": "markdown",
   "id": "86e38d50-8fe8-4191-a56a-e65f5bb6de7f",
   "metadata": {},
   "source": [
    "## # Import the data for training "
   ]
  },
  {
   "cell_type": "code",
   "execution_count": 3,
   "id": "fe3851e0-c997-4f96-b83c-14337d658e97",
   "metadata": {},
   "outputs": [
    {
     "data": {
      "text/plain": [
       "(300, 300)"
      ]
     },
     "execution_count": 3,
     "metadata": {},
     "output_type": "execute_result"
    }
   ],
   "source": [
    "data_mat = loadmat('train_data.mat')\n",
    "data = data_mat['data'][0]\n",
    "label = data_mat['label'][0]\n",
    "\n",
    "len(data), len(label)"
   ]
  },
  {
   "cell_type": "markdown",
   "id": "487a5860-2be6-46a2-a714-bb3d9db143bb",
   "metadata": {},
   "source": [
    "## # Helper functions"
   ]
  },
  {
   "cell_type": "code",
   "execution_count": 4,
   "id": "5c597fb7-7f5c-4383-bd91-0a2621582bff",
   "metadata": {},
   "outputs": [],
   "source": [
    "def avg_pwr(single_signal):\n",
    "    return np.sum(np.abs(single_signal) ** 2) / len(single_signal)\n"
   ]
  },
  {
   "cell_type": "code",
   "execution_count": 5,
   "id": "594f54a2-837c-44cf-9911-73e6eb935ab2",
   "metadata": {},
   "outputs": [],
   "source": [
    "def cclab_pca(EEG_data):\n",
    "\n",
    "    # 1. Standardizing the data\n",
    "    EEG_std = StandardScaler().fit_transform(EEG_data)\n",
    "\n",
    "    # 2. Compute the covariance matrix\n",
    "    cov_matrix_EEG = np.cov(EEG_std)\n",
    "\n",
    "    # 3. Compute the eigenvectors and eigenvalues\n",
    "    eigenvalues_EEG, eigenvectors_EEG = np.linalg.eig(cov_matrix_EEG)\n",
    "\n",
    "    # 4. Sort the eigenvectors by decreasing eigenvalues\n",
    "    sorted_indices_EEG = np.argsort(eigenvalues_EEG)[::-1]\n",
    "    eigenvectors_sorted_EEG = eigenvectors_EEG[:, sorted_indices_EEG]\n",
    "\n",
    "    # 5. Select the top eigenvector (first principal component)\n",
    "    first_principal_component = eigenvectors_sorted_EEG[:, 0]\n",
    "\n",
    "    return first_principal_component"
   ]
  },
  {
   "cell_type": "markdown",
   "id": "abbec52a-92d2-484d-bf7d-02e2d93ee588",
   "metadata": {},
   "source": [
    "## # Decoding results"
   ]
  },
  {
   "cell_type": "code",
   "execution_count": 6,
   "id": "28efab95-8045-44df-b6c0-2938b4bdd7b6",
   "metadata": {},
   "outputs": [],
   "source": [
    "h, w = len(data), 11  # 6 for power in frequency bands, 5 for summary stats\n",
    "all_features = [[0 for x in range(w)] for y in range(h)]\n",
    "\n",
    "frq = ([1,4],[4,8],[8,12],[12,30],[30,90],[90,120])\n",
    "\n",
    "for idx in range(len(data)):\n",
    "    sample_signal = preprocessing.normalize(data[idx]).flatten()\n",
    "    \n",
    "    # Power in different frequency bands\n",
    "    for item in range(len(frq)):\n",
    "        sos = signal.butter(3, frq[item], 'bandpass', output='sos', fs=1000)\n",
    "        filtered_signal = signal.sosfiltfilt(sos, sample_signal)\n",
    "        all_features[idx][item] = avg_pwr(filtered_signal)\n",
    "    \n",
    "    # Summary stats\n",
    "    all_features[idx][6] = np.min(sample_signal)\n",
    "    all_features[idx][7] = np.max(sample_signal)\n",
    "    all_features[idx][8] = np.average(sample_signal)\n",
    "    all_features[idx][9] = np.var(sample_signal)\n",
    "    all_features[idx][10] = np.std(sample_signal)\n"
   ]
  },
  {
   "cell_type": "code",
   "execution_count": 7,
   "id": "066f9ee2-9257-413b-8f94-ca013bc26dbc",
   "metadata": {},
   "outputs": [],
   "source": [
    "# Split data into training and testing sets\n",
    "X_train, X_test, y_train, y_test = train_test_split(all_features, label, test_size=0.2, random_state=42)\n"
   ]
  },
  {
   "cell_type": "markdown",
   "id": "252bf276-e277-4400-8117-9008d20a2621",
   "metadata": {},
   "source": [
    "### # LogisticRegression"
   ]
  },
  {
   "cell_type": "code",
   "execution_count": 8,
   "id": "08f7cdde-629a-4309-a60d-0b436b267950",
   "metadata": {},
   "outputs": [
    {
     "name": "stdout",
     "output_type": "stream",
     "text": [
      "Accuracy: 0.45\n",
      "Confusion Matrix:\n",
      "[[ 0 33]\n",
      " [ 0 27]]\n"
     ]
    }
   ],
   "source": [
    "# Train a classification model (Logistic Regression in this example)\n",
    "clf = LogisticRegression(max_iter = 100000)\n",
    "clf.fit(X_train, y_train)\n",
    "\n",
    "# Make predictions on the test data\n",
    "y_pred = clf.predict(X_test)\n",
    "\n",
    "# Evaluate the model\n",
    "accuracy = accuracy_score(y_test, y_pred)\n",
    "confusion_mat = confusion_matrix(y_test, y_pred)\n",
    "\n",
    "print(\"Accuracy:\", accuracy)\n",
    "print(\"Confusion Matrix:\")\n",
    "print(confusion_mat)"
   ]
  },
  {
   "cell_type": "markdown",
   "id": "e5a3d879-813e-4983-b54d-aa0c77d2274b",
   "metadata": {},
   "source": [
    "### # Support Vector Machine"
   ]
  },
  {
   "cell_type": "code",
   "execution_count": 9,
   "id": "6b9513c8",
   "metadata": {},
   "outputs": [
    {
     "name": "stdout",
     "output_type": "stream",
     "text": [
      "Accuracy of SVM classifier on training set: 0.73\n",
      "Accuracy of SVM classifier on test set: 0.68\n"
     ]
    }
   ],
   "source": [
    "svm = SVC()\n",
    "svm.fit(X_train, y_train)\n",
    "print('Accuracy of SVM classifier on training set: {:.2f}'\n",
    "     .format(svm.score(X_train, y_train)))\n",
    "print('Accuracy of SVM classifier on test set: {:.2f}'\n",
    "     .format(svm.score(X_test, y_test)))"
   ]
  },
  {
   "cell_type": "markdown",
   "id": "58ffb740-071d-4186-8579-d354211ea46a",
   "metadata": {},
   "source": [
    "### # GaussianNB"
   ]
  },
  {
   "cell_type": "code",
   "execution_count": 10,
   "id": "94b66a1e",
   "metadata": {},
   "outputs": [
    {
     "name": "stdout",
     "output_type": "stream",
     "text": [
      "Accuracy of GNB classifier on training set: 0.74\n",
      "Accuracy of GNB classifier on test set: 0.78\n"
     ]
    }
   ],
   "source": [
    "gnb = GaussianNB()\n",
    "gnb.fit(X_train, y_train)\n",
    "print('Accuracy of GNB classifier on training set: {:.2f}'\n",
    "     .format(gnb.score(X_train, y_train)))\n",
    "print('Accuracy of GNB classifier on test set: {:.2f}'\n",
    "     .format(gnb.score(X_test, y_test)))"
   ]
  },
  {
   "cell_type": "markdown",
   "id": "ec7792fc-44d4-4197-87ab-ed717ab8b807",
   "metadata": {},
   "source": [
    "### # Linear Discriminant Analysis"
   ]
  },
  {
   "cell_type": "code",
   "execution_count": 11,
   "id": "b71ce45d",
   "metadata": {},
   "outputs": [
    {
     "name": "stdout",
     "output_type": "stream",
     "text": [
      "Accuracy of LDA classifier on training set: 0.79\n",
      "Accuracy of LDA classifier on test set: 0.83\n"
     ]
    }
   ],
   "source": [
    "lda = LinearDiscriminantAnalysis()\n",
    "lda.fit(X_train, y_train)\n",
    "print('Accuracy of LDA classifier on training set: {:.2f}'\n",
    "     .format(lda.score(X_train, y_train)))\n",
    "print('Accuracy of LDA classifier on test set: {:.2f}'\n",
    "     .format(lda.score(X_test, y_test)))"
   ]
  },
  {
   "cell_type": "markdown",
   "id": "e1ca9e66-143f-4ad9-a851-7ef546e3b15e",
   "metadata": {},
   "source": [
    "### # K-Neighbors Classifier"
   ]
  },
  {
   "cell_type": "code",
   "execution_count": 12,
   "id": "1e4f7ea9",
   "metadata": {},
   "outputs": [
    {
     "name": "stdout",
     "output_type": "stream",
     "text": [
      "Accuracy of K-NN classifier on training set: 0.80\n",
      "Accuracy of K-NN classifier on test set: 0.73\n"
     ]
    }
   ],
   "source": [
    "knn = KNeighborsClassifier()\n",
    "knn.fit(X_train, y_train)\n",
    "print('Accuracy of K-NN classifier on training set: {:.2f}'\n",
    "     .format(knn.score(X_train, y_train)))\n",
    "print('Accuracy of K-NN classifier on test set: {:.2f}'\n",
    "     .format(knn.score(X_test, y_test)))"
   ]
  },
  {
   "cell_type": "markdown",
   "id": "905a4990-69be-4516-9f91-8b31723cafe9",
   "metadata": {},
   "source": [
    "### # Decision Tree Classifier"
   ]
  },
  {
   "cell_type": "code",
   "execution_count": 13,
   "id": "bf306c01",
   "metadata": {},
   "outputs": [
    {
     "name": "stdout",
     "output_type": "stream",
     "text": [
      "Accuracy of Decision Tree classifier on training set: 1.00\n",
      "Accuracy of Decision Tree classifier on test set: 0.72\n"
     ]
    }
   ],
   "source": [
    "clf = DecisionTreeClassifier().fit(X_train, y_train)\n",
    "print('Accuracy of Decision Tree classifier on training set: {:.2f}'\n",
    "     .format(clf.score(X_train, y_train)))\n",
    "print('Accuracy of Decision Tree classifier on test set: {:.2f}'\n",
    "     .format(clf.score(X_test, y_test)))"
   ]
  },
  {
   "cell_type": "code",
   "execution_count": null,
   "id": "6d2987fe-fa5c-40e6-8eae-aa6a9a2406cc",
   "metadata": {},
   "outputs": [],
   "source": []
  },
  {
   "cell_type": "markdown",
   "id": "39d0efec-25dd-4785-ab30-1159fe1b20e3",
   "metadata": {},
   "source": [
    "## # Import the data for Kaggle "
   ]
  },
  {
   "cell_type": "code",
   "execution_count": 14,
   "id": "6a8679bb-135b-4bad-9eee-93808e9c8732",
   "metadata": {},
   "outputs": [
    {
     "data": {
      "text/plain": [
       "104"
      ]
     },
     "execution_count": 14,
     "metadata": {},
     "output_type": "execute_result"
    }
   ],
   "source": [
    "kaggle_data_mat = loadmat('test_data.mat')\n",
    "kaggle_data = kaggle_data_mat['data'][0]\n",
    "\n",
    "len(kaggle_data)"
   ]
  },
  {
   "cell_type": "code",
   "execution_count": 15,
   "id": "43fb3c79",
   "metadata": {},
   "outputs": [],
   "source": [
    "h, w = len(kaggle_data), 11  # 6 for power in frequency bands, 5 for summary stats\n",
    "all_features = [[0 for x in range(w)] for y in range(h)]\n",
    "\n",
    "frq = ([1,4],[4,8],[8,12],[12,30],[30,90],[90,120])\n",
    "\n",
    "for idx in range(len(kaggle_data)):\n",
    "    sample_signal = preprocessing.normalize(kaggle_data[idx]).flatten()\n",
    "    \n",
    "    # Power in different frequency bands\n",
    "    for item in range(len(frq)):\n",
    "        sos = signal.butter(3, frq[item], 'bandpass', output='sos', fs=1000)\n",
    "        filtered_signal = signal.sosfiltfilt(sos, sample_signal)\n",
    "        all_features[idx][item] = avg_pwr(filtered_signal)\n",
    "    \n",
    "    # Summary stats\n",
    "    all_features[idx][6] = np.min(sample_signal)\n",
    "    all_features[idx][7] = np.max(sample_signal)\n",
    "    all_features[idx][8] = np.average(sample_signal)\n",
    "    all_features[idx][9] = np.var(sample_signal)\n",
    "    all_features[idx][10] = np.std(sample_signal)\n"
   ]
  },
  {
   "cell_type": "code",
   "execution_count": 16,
   "id": "6ab45f2d",
   "metadata": {},
   "outputs": [],
   "source": [
    "y_pred = lda.predict(all_features)\n",
    "\n",
    "idx = np.linspace(1, len(y_pred), len(y_pred))\n",
    "idx = idx.astype(int)\n",
    "df = pd.DataFrame({'Case': idx, 'Predicted': y_pred})\n",
    "# The index=False gets rid of the index pandas generated for you\n",
    "df.to_csv('predicted.csv', index=False)"
   ]
  },
  {
   "cell_type": "code",
   "execution_count": 17,
   "id": "58f0423c-cab6-4801-9280-cd2d8486d19d",
   "metadata": {},
   "outputs": [
    {
     "data": {
      "text/plain": [
       "(104,)"
      ]
     },
     "execution_count": 17,
     "metadata": {},
     "output_type": "execute_result"
    }
   ],
   "source": [
    "y_pred.shape"
   ]
  },
  {
   "cell_type": "code",
   "execution_count": null,
   "id": "60dac236-7e3d-44d8-b974-46fc2f0155b5",
   "metadata": {},
   "outputs": [],
   "source": []
  }
 ],
 "metadata": {
  "kernelspec": {
   "display_name": "Python 3 (ipykernel)",
   "language": "python",
   "name": "python3"
  },
  "language_info": {
   "codemirror_mode": {
    "name": "ipython",
    "version": 3
   },
   "file_extension": ".py",
   "mimetype": "text/x-python",
   "name": "python",
   "nbconvert_exporter": "python",
   "pygments_lexer": "ipython3",
   "version": "3.10.11"
  },
  "vscode": {
   "interpreter": {
    "hash": "e4211c259615786ec1a558d4c1ba09614ca1003dc82bf834548fb19271bd5e7e"
   }
  }
 },
 "nbformat": 4,
 "nbformat_minor": 5
}
